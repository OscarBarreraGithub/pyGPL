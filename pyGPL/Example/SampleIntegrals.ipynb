{
 "cells": [
  {
   "cell_type": "code",
   "execution_count": 1,
   "id": "06296e4a-79c8-44a2-8552-956d6a9f8583",
   "metadata": {},
   "outputs": [],
   "source": [
    "import pyGPL\n",
    "import numpy as np\n",
    "import pandas as pd\n",
    "import re"
   ]
  },
  {
   "cell_type": "markdown",
   "id": "0023b718-3391-4640-a517-a7f3667949b2",
   "metadata": {},
   "source": [
    "### First, we load in the example integrals in $ G(a_1, a_2, \\dots, a_n, x) $ form. \n",
    "### The first two entries are loop 2 and 3. The last two entries are loop 4, respectively, without and with the basis functions, including $ \\text{Li}_{2,2} $.\n"
   ]
  },
  {
   "cell_type": "code",
   "execution_count": 2,
   "id": "7140d2e2-e6f5-4f10-a27b-4dd47f37d616",
   "metadata": {},
   "outputs": [
    {
     "data": {
      "text/plain": [
       "'G[0, 0, x], G[1, 0, x], G[-1, 0, x], G[4, 0, x], G[-4, 0, x], G[0, 1, x], G[1, 1, x], G[-1, 1, x], G[4, 1, x], G[-4, 1, x], G[0, -1, x], G[1, -1, x], G[-1, -1, x], G[4, -1, x], G[-4, -1, x], G[0, 4, x], G[1, 4, x], G[-1, 4, x], G[4, 4, x], G[-4, 4, x], G[0, -4, x], G[1, -4, x], G[-1, -4, x], G[4, -4, x], G[-4, -4, x]'"
      ]
     },
     "execution_count": 2,
     "metadata": {},
     "output_type": "execute_result"
    }
   ],
   "source": [
    "# Read the file content\n",
    "with open(\"exampleIntegrals.txt\", \"r\") as file:\n",
    "    data = file.read()\n",
    "\n",
    "# Extract expressions enclosed in `{}` as separate entries\n",
    "blocks = re.findall(r\"\\{(.*?)\\}\", data, re.DOTALL)\n",
    "\n",
    "# Create a DataFrame where each row corresponds to a `{}` block\n",
    "df = pd.DataFrame(blocks, columns=[\"Integral\"])\n",
    "\n",
    "df['Integral'][0]"
   ]
  },
  {
   "cell_type": "markdown",
   "id": "addb1735-f174-4442-b2ed-e911d78f0cc2",
   "metadata": {},
   "source": [
    "### Now we parse each entry so we have the GPLs in a suitable form to pass to fastGPL. $ G(a_1, a_2, \\dots, a_n, x) \\to [a_1, a_2, \\dots, a_n]$"
   ]
  },
  {
   "cell_type": "code",
   "execution_count": 3,
   "id": "a793140d-2051-4cd1-beb2-05180c66d791",
   "metadata": {},
   "outputs": [
    {
     "name": "stdout",
     "output_type": "stream",
     "text": [
      "[[0, 0], [1, 0], [-1, 0], [4, 0], [-4, 0, 1]]\n"
     ]
    }
   ],
   "source": [
    "import re\n",
    "\n",
    "def parse_integrals(integral_string):\n",
    "    \"\"\"\n",
    "    Parses a string of integrals like 'G[a, b, c, x]' and extracts only the numerical lists.\n",
    "\n",
    "    Args:\n",
    "        integral_string (str): A string of comma-separated integrals in 'G[ ... ]' format.\n",
    "\n",
    "    Returns:\n",
    "        list: A list of lists containing only the numerical values from each G expression.\n",
    "    \"\"\"\n",
    "    # Use regex to extract everything inside G[ ... ]\n",
    "    matches = re.findall(r\"G\\[(.*?)\\]\", integral_string)\n",
    "    \n",
    "    # Process each match to extract only numeric values (ignore 'x')\n",
    "    parsed_values = []\n",
    "    for match in matches:\n",
    "        values = match.split(\",\")  # Split by comma\n",
    "        numeric_values = [int(v.strip()) for v in values if \"x\" not in v]  # Exclude 'x'\n",
    "        parsed_values.append(numeric_values)\n",
    "\n",
    "    return parsed_values\n",
    "\n",
    "# Example usage\n",
    "example_str = \"G[0, 0, x], G[1, 0, x], G[-1, 0, x], G[4, 0, x], G[-4, 0, 1, x]\"\n",
    "parsed_list = parse_integrals(example_str)\n",
    "\n",
    "print(parsed_list)  # Output: [[0, 0], [1, 0], [-1, 0], [4, 0], [-4, 0]]\n"
   ]
  },
  {
   "cell_type": "code",
   "execution_count": 4,
   "id": "345fcd5a-642e-4f40-b4ef-ddf8abc604c9",
   "metadata": {},
   "outputs": [
    {
     "data": {
      "text/plain": [
       "[[0, 0],\n",
       " [1, 0],\n",
       " [-1, 0],\n",
       " [4, 0],\n",
       " [-4, 0],\n",
       " [0, 1],\n",
       " [1, 1],\n",
       " [-1, 1],\n",
       " [4, 1],\n",
       " [-4, 1],\n",
       " [0, -1],\n",
       " [1, -1],\n",
       " [-1, -1],\n",
       " [4, -1],\n",
       " [-4, -1],\n",
       " [0, 4],\n",
       " [1, 4],\n",
       " [-1, 4],\n",
       " [4, 4],\n",
       " [-4, 4],\n",
       " [0, -4],\n",
       " [1, -4],\n",
       " [-1, -4],\n",
       " [4, -4],\n",
       " [-4, -4]]"
      ]
     },
     "execution_count": 4,
     "metadata": {},
     "output_type": "execute_result"
    }
   ],
   "source": [
    "# Apply the parse_integrals function to transform each row in the DataFrame\n",
    "df[\"Parsed\"] = df[\"Integral\"].apply(parse_integrals)\n",
    "df[\"Parsed\"][0]"
   ]
  },
  {
   "cell_type": "markdown",
   "id": "8cac97d5-f8e2-4c71-9867-e14d7b407acb",
   "metadata": {},
   "source": [
    "### We can now evaluate the GPL for each $[a_1, a_2, \\dots, a_n]$ and sum"
   ]
  },
  {
   "cell_type": "code",
   "execution_count": 5,
   "id": "37bb107a-e16b-4ce5-8d69-f6bb47ac4b5c",
   "metadata": {},
   "outputs": [
    {
     "data": {
      "text/plain": [
       "(2.0933482737718725+0j)"
      ]
     },
     "execution_count": 5,
     "metadata": {},
     "output_type": "execute_result"
    }
   ],
   "source": [
    "#select arbitrary point to evaluate GPLs\n",
    "point = 1.5\n",
    "\n",
    "def evaluate_gpl(values):\n",
    "    return pyGPL.GPL([complex(z) for z in values], point)\n",
    "\n",
    "#test function\n",
    "evaluate_gpl([1,0])"
   ]
  },
  {
   "cell_type": "code",
   "execution_count": 6,
   "id": "af058ec6-37a0-4d98-8f60-398f2185f565",
   "metadata": {},
   "outputs": [
    {
     "name": "stdout",
     "output_type": "stream",
     "text": [
      "First few values of first integral:\n"
     ]
    },
    {
     "data": {
      "text/html": [
       "<div>\n",
       "<style scoped>\n",
       "    .dataframe tbody tr th:only-of-type {\n",
       "        vertical-align: middle;\n",
       "    }\n",
       "\n",
       "    .dataframe tbody tr th {\n",
       "        vertical-align: top;\n",
       "    }\n",
       "\n",
       "    .dataframe thead th {\n",
       "        text-align: right;\n",
       "    }\n",
       "</style>\n",
       "<table border=\"1\" class=\"dataframe\">\n",
       "  <thead>\n",
       "    <tr style=\"text-align: right;\">\n",
       "      <th></th>\n",
       "      <th>G</th>\n",
       "    </tr>\n",
       "  </thead>\n",
       "  <tbody>\n",
       "    <tr>\n",
       "      <th>0</th>\n",
       "      <td>[0, 0]</td>\n",
       "    </tr>\n",
       "    <tr>\n",
       "      <th>1</th>\n",
       "      <td>[1, 0]</td>\n",
       "    </tr>\n",
       "    <tr>\n",
       "      <th>2</th>\n",
       "      <td>[-1, 0]</td>\n",
       "    </tr>\n",
       "    <tr>\n",
       "      <th>3</th>\n",
       "      <td>[4, 0]</td>\n",
       "    </tr>\n",
       "    <tr>\n",
       "      <th>4</th>\n",
       "      <td>[-4, 0]</td>\n",
       "    </tr>\n",
       "  </tbody>\n",
       "</table>\n",
       "</div>"
      ],
      "text/plain": [
       "         G\n",
       "0   [0, 0]\n",
       "1   [1, 0]\n",
       "2  [-1, 0]\n",
       "3   [4, 0]\n",
       "4  [-4, 0]"
      ]
     },
     "execution_count": 6,
     "metadata": {},
     "output_type": "execute_result"
    }
   ],
   "source": [
    "#seperate each integral\n",
    "\n",
    "I1 = pd.DataFrame({\"G\": df[\"Parsed\"][0]})\n",
    "I2 = pd.DataFrame({\"G\": df[\"Parsed\"][1]})\n",
    "I3 = pd.DataFrame({\"G\": df[\"Parsed\"][2]})\n",
    "I4 = pd.DataFrame({\"G\": df[\"Parsed\"][3]})\n",
    "\n",
    "print('First few values of first integral:')\n",
    "I1.head()"
   ]
  },
  {
   "cell_type": "code",
   "execution_count": 7,
   "id": "dcdbdef0-d324-41a6-8af6-24ceb6d3cc93",
   "metadata": {},
   "outputs": [
    {
     "data": {
      "text/html": [
       "<div>\n",
       "<style scoped>\n",
       "    .dataframe tbody tr th:only-of-type {\n",
       "        vertical-align: middle;\n",
       "    }\n",
       "\n",
       "    .dataframe tbody tr th {\n",
       "        vertical-align: top;\n",
       "    }\n",
       "\n",
       "    .dataframe thead th {\n",
       "        text-align: right;\n",
       "    }\n",
       "</style>\n",
       "<table border=\"1\" class=\"dataframe\">\n",
       "  <thead>\n",
       "    <tr style=\"text-align: right;\">\n",
       "      <th></th>\n",
       "      <th>G</th>\n",
       "      <th>Eval</th>\n",
       "    </tr>\n",
       "  </thead>\n",
       "  <tbody>\n",
       "    <tr>\n",
       "      <th>0</th>\n",
       "      <td>[0, 0]</td>\n",
       "      <td>0.082201+0.000000j</td>\n",
       "    </tr>\n",
       "    <tr>\n",
       "      <th>1</th>\n",
       "      <td>[1, 0]</td>\n",
       "      <td>2.093348+0.000000j</td>\n",
       "    </tr>\n",
       "    <tr>\n",
       "      <th>2</th>\n",
       "      <td>[-1, 0]</td>\n",
       "      <td>-0.775857+0.000000j</td>\n",
       "    </tr>\n",
       "    <tr>\n",
       "      <th>3</th>\n",
       "      <td>[4, 0]</td>\n",
       "      <td>0.227085+0.000000j</td>\n",
       "    </tr>\n",
       "    <tr>\n",
       "      <th>4</th>\n",
       "      <td>[-4, 0]</td>\n",
       "      <td>-0.215581+0.000000j</td>\n",
       "    </tr>\n",
       "  </tbody>\n",
       "</table>\n",
       "</div>"
      ],
      "text/plain": [
       "         G                Eval\n",
       "0   [0, 0]  0.082201+0.000000j\n",
       "1   [1, 0]  2.093348+0.000000j\n",
       "2  [-1, 0] -0.775857+0.000000j\n",
       "3   [4, 0]  0.227085+0.000000j\n",
       "4  [-4, 0] -0.215581+0.000000j"
      ]
     },
     "execution_count": 7,
     "metadata": {},
     "output_type": "execute_result"
    }
   ],
   "source": [
    "I1[\"Eval\"] = I1[\"G\"].apply(evaluate_gpl)\n",
    "I1.head()"
   ]
  },
  {
   "cell_type": "code",
   "execution_count": 8,
   "id": "9d1a6a45-1660-4645-8f76-1f4913e64c3e",
   "metadata": {},
   "outputs": [
    {
     "name": "stdout",
     "output_type": "stream",
     "text": [
      "First integral evaluated at x = 1.5: (-4.821009669680437+1.4987242998155623j)\n"
     ]
    }
   ],
   "source": [
    "print(f'First integral evaluated at x = {point}: {I1['Eval'].sum()}')"
   ]
  },
  {
   "cell_type": "code",
   "execution_count": 9,
   "id": "4fd887ee-1e50-4ad1-b4c0-2e5c6cba0063",
   "metadata": {},
   "outputs": [
    {
     "data": {
      "text/html": [
       "<div>\n",
       "<style scoped>\n",
       "    .dataframe tbody tr th:only-of-type {\n",
       "        vertical-align: middle;\n",
       "    }\n",
       "\n",
       "    .dataframe tbody tr th {\n",
       "        vertical-align: top;\n",
       "    }\n",
       "\n",
       "    .dataframe thead th {\n",
       "        text-align: right;\n",
       "    }\n",
       "</style>\n",
       "<table border=\"1\" class=\"dataframe\">\n",
       "  <thead>\n",
       "    <tr style=\"text-align: right;\">\n",
       "      <th></th>\n",
       "      <th>G</th>\n",
       "      <th>Eval</th>\n",
       "    </tr>\n",
       "  </thead>\n",
       "  <tbody>\n",
       "    <tr>\n",
       "      <th>0</th>\n",
       "      <td>[0, 0, 0]</td>\n",
       "      <td>0.011110+0.000000j</td>\n",
       "    </tr>\n",
       "    <tr>\n",
       "      <th>1</th>\n",
       "      <td>[1, 0, 0]</td>\n",
       "      <td>-1.155120+0.000000j</td>\n",
       "    </tr>\n",
       "    <tr>\n",
       "      <th>2</th>\n",
       "      <td>[-1, 0, 0]</td>\n",
       "      <td>0.907935+0.000000j</td>\n",
       "    </tr>\n",
       "    <tr>\n",
       "      <th>3</th>\n",
       "      <td>[4, 0, 0]</td>\n",
       "      <td>-0.264207+0.000000j</td>\n",
       "    </tr>\n",
       "    <tr>\n",
       "      <th>4</th>\n",
       "      <td>[-4, 0, 0]</td>\n",
       "      <td>0.245527+0.000000j</td>\n",
       "    </tr>\n",
       "  </tbody>\n",
       "</table>\n",
       "</div>"
      ],
      "text/plain": [
       "            G                Eval\n",
       "0   [0, 0, 0]  0.011110+0.000000j\n",
       "1   [1, 0, 0] -1.155120+0.000000j\n",
       "2  [-1, 0, 0]  0.907935+0.000000j\n",
       "3   [4, 0, 0] -0.264207+0.000000j\n",
       "4  [-4, 0, 0]  0.245527+0.000000j"
      ]
     },
     "execution_count": 9,
     "metadata": {},
     "output_type": "execute_result"
    }
   ],
   "source": [
    "I2[\"Eval\"] = I2[\"G\"].apply(evaluate_gpl)\n",
    "I2.head()"
   ]
  },
  {
   "cell_type": "code",
   "execution_count": 10,
   "id": "27f5f826-f162-4373-b6a4-0167456b0691",
   "metadata": {},
   "outputs": [
    {
     "data": {
      "text/html": [
       "<div>\n",
       "<style scoped>\n",
       "    .dataframe tbody tr th:only-of-type {\n",
       "        vertical-align: middle;\n",
       "    }\n",
       "\n",
       "    .dataframe tbody tr th {\n",
       "        vertical-align: top;\n",
       "    }\n",
       "\n",
       "    .dataframe thead th {\n",
       "        text-align: right;\n",
       "    }\n",
       "</style>\n",
       "<table border=\"1\" class=\"dataframe\">\n",
       "  <thead>\n",
       "    <tr style=\"text-align: right;\">\n",
       "      <th></th>\n",
       "      <th>G</th>\n",
       "      <th>Eval</th>\n",
       "    </tr>\n",
       "  </thead>\n",
       "  <tbody>\n",
       "    <tr>\n",
       "      <th>0</th>\n",
       "      <td>[0, 0, 0, 0]</td>\n",
       "      <td>0.001126+0.000000j</td>\n",
       "    </tr>\n",
       "    <tr>\n",
       "      <th>1</th>\n",
       "      <td>[1, 0, 0, 0]</td>\n",
       "      <td>1.086620+0.000000j</td>\n",
       "    </tr>\n",
       "    <tr>\n",
       "      <th>2</th>\n",
       "      <td>[-1, 0, 0, 0]</td>\n",
       "      <td>-0.946379+0.000000j</td>\n",
       "    </tr>\n",
       "    <tr>\n",
       "      <th>3</th>\n",
       "      <td>[4, 0, 0, 0]</td>\n",
       "      <td>0.253517+0.000000j</td>\n",
       "    </tr>\n",
       "    <tr>\n",
       "      <th>4</th>\n",
       "      <td>[-4, 0, 0, 0]</td>\n",
       "      <td>-0.245983+0.000000j</td>\n",
       "    </tr>\n",
       "  </tbody>\n",
       "</table>\n",
       "</div>"
      ],
      "text/plain": [
       "               G                Eval\n",
       "0   [0, 0, 0, 0]  0.001126+0.000000j\n",
       "1   [1, 0, 0, 0]  1.086620+0.000000j\n",
       "2  [-1, 0, 0, 0] -0.946379+0.000000j\n",
       "3   [4, 0, 0, 0]  0.253517+0.000000j\n",
       "4  [-4, 0, 0, 0] -0.245983+0.000000j"
      ]
     },
     "execution_count": 10,
     "metadata": {},
     "output_type": "execute_result"
    }
   ],
   "source": [
    "I3[\"Eval\"] = I3[\"G\"].apply(evaluate_gpl)\n",
    "I3.head()"
   ]
  },
  {
   "cell_type": "code",
   "execution_count": 11,
   "id": "cb211335-677d-4416-990b-681facc8593e",
   "metadata": {},
   "outputs": [
    {
     "data": {
      "text/html": [
       "<div>\n",
       "<style scoped>\n",
       "    .dataframe tbody tr th:only-of-type {\n",
       "        vertical-align: middle;\n",
       "    }\n",
       "\n",
       "    .dataframe tbody tr th {\n",
       "        vertical-align: top;\n",
       "    }\n",
       "\n",
       "    .dataframe thead th {\n",
       "        text-align: right;\n",
       "    }\n",
       "</style>\n",
       "<table border=\"1\" class=\"dataframe\">\n",
       "  <thead>\n",
       "    <tr style=\"text-align: right;\">\n",
       "      <th></th>\n",
       "      <th>G</th>\n",
       "      <th>Eval</th>\n",
       "    </tr>\n",
       "  </thead>\n",
       "  <tbody>\n",
       "    <tr>\n",
       "      <th>0</th>\n",
       "      <td>[0, 0, 0, 0, 0]</td>\n",
       "      <td>0.000091+0.000000j</td>\n",
       "    </tr>\n",
       "    <tr>\n",
       "      <th>1</th>\n",
       "      <td>[1, 0, 0, 0, 0]</td>\n",
       "      <td>-1.036598-0.000000j</td>\n",
       "    </tr>\n",
       "    <tr>\n",
       "      <th>2</th>\n",
       "      <td>[-1, 0, 0, 0, 0]</td>\n",
       "      <td>0.972173+0.000000j</td>\n",
       "    </tr>\n",
       "    <tr>\n",
       "      <th>3</th>\n",
       "      <td>[4, 0, 0, 0, 0]</td>\n",
       "      <td>-0.252071+0.000000j</td>\n",
       "    </tr>\n",
       "    <tr>\n",
       "      <th>4</th>\n",
       "      <td>[-4, 0, 0, 0, 0]</td>\n",
       "      <td>0.248131+0.000000j</td>\n",
       "    </tr>\n",
       "  </tbody>\n",
       "</table>\n",
       "</div>"
      ],
      "text/plain": [
       "                  G                Eval\n",
       "0   [0, 0, 0, 0, 0]  0.000091+0.000000j\n",
       "1   [1, 0, 0, 0, 0] -1.036598-0.000000j\n",
       "2  [-1, 0, 0, 0, 0]  0.972173+0.000000j\n",
       "3   [4, 0, 0, 0, 0] -0.252071+0.000000j\n",
       "4  [-4, 0, 0, 0, 0]  0.248131+0.000000j"
      ]
     },
     "execution_count": 11,
     "metadata": {},
     "output_type": "execute_result"
    }
   ],
   "source": [
    "I4[\"Eval\"] = I4[\"G\"].apply(evaluate_gpl)\n",
    "I4.head()"
   ]
  },
  {
   "cell_type": "code",
   "execution_count": 12,
   "id": "021db25c-e9b4-410f-a8ad-02ccc4774b4d",
   "metadata": {},
   "outputs": [
    {
     "data": {
      "text/latex": [
       "$\\displaystyle \n",
       "\\textbf{Integrals evaluated at } x = 1.5:\n",
       "\n",
       "\\begin{aligned}\n",
       "\\text{Loop 2:} & \\quad -4.8210+1.4987j \\\\\n",
       "\\text{Loop 3:} & \\quad -2.3361-4.8102j \\\\\n",
       "\\text{Loop 4:} & \\quad 3.4993-2.4085j \\\\\n",
       "\\text{Loop 4:} & \\quad 1.8472+1.9689j \\text{  (with } \\text{Li}_{2,2} \\text{)}\n",
       "\\end{aligned}\n",
       "$"
      ],
      "text/plain": [
       "<IPython.core.display.Math object>"
      ]
     },
     "metadata": {},
     "output_type": "display_data"
    }
   ],
   "source": [
    "from IPython.display import display, Math\n",
    "\n",
    "# Display the formatted output in LaTeX\n",
    "display(Math(rf\"\"\"\n",
    "\\textbf{{Integrals evaluated at }} x = {point}:\n",
    "\n",
    "\\begin{{aligned}}\n",
    "\\text{{Loop 2:}} & \\quad {I1[\"Eval\"].sum():.4f} \\\\\n",
    "\\text{{Loop 3:}} & \\quad {I2[\"Eval\"].sum():.4f} \\\\\n",
    "\\text{{Loop 4:}} & \\quad {I3[\"Eval\"].sum():.4f} \\\\\n",
    "\\text{{Loop 4:}} & \\quad {I4[\"Eval\"].sum():.4f} \\text{{  (with }} \\text{{Li}}_{{2,2}} \\text{{)}}\n",
    "\\end{{aligned}}\n",
    "\"\"\"))\n"
   ]
  }
 ],
 "metadata": {
  "kernelspec": {
   "display_name": "Python 3 (ipykernel)",
   "language": "python",
   "name": "python3"
  },
  "language_info": {
   "codemirror_mode": {
    "name": "ipython",
    "version": 3
   },
   "file_extension": ".py",
   "mimetype": "text/x-python",
   "name": "python",
   "nbconvert_exporter": "python",
   "pygments_lexer": "ipython3",
   "version": "3.13.1"
  }
 },
 "nbformat": 4,
 "nbformat_minor": 5
}
